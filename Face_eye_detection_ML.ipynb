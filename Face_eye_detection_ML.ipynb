{
 "cells": [
  {
   "cell_type": "code",
   "execution_count": null,
   "metadata": {},
   "outputs": [],
   "source": [
    "import cv2\n",
    "Image=cv2.imread(\"C:\Users\786nn\OneDrive\Desktop\group imge.web\")\n",
    "gray=cv2.cvtColor(Image,cv2.COLOR_BGR2GRAY)\n",
    "faceModel=cv2.CascadeClassifier(\"C:/Study Material/Ducat stuff/Python with ML_2nd joining video and dataset/dataset/haar/haarcascade_frontalface_default.xml\")\n",
    "eyeModel=cv2.CascadeClassifier(\"C:/Study Material/Ducat stuff/Python with ML_2nd joining video and dataset/dataset/haar/haarcascade_eye.xml\")\n",
    "\n",
    "face_list=faceModel.detectMultiScale(gray, minNeighbors=5,scaleFactor=1.2)\n",
    "eye_list=eyeModel.detectMultiScale(gray,minNeighbors=2,scaleFactor=1.1)\n",
    "for x,y,w,h in face_list:\n",
    "    cv2.rectangle(Image,(x,y),(x+w,y+h),(0,0,255),2)\n",
    "    for ex,ey,ew,eh in eye_list:\n",
    "        cv2.rectangle(Image,(ex,ey),(ex+ew,ey+eh),(255,0,0),2)\n",
    "cv2.imshow('title',Image)\n",
    "k=cv2.waitKey()\n",
    "cv2.destroyAllWindows()\n"
   ]
  }
 ],
 "metadata": {
  "kernelspec": {
   "display_name": "Python 3",
   "language": "python",
   "name": "python3"
  },
  "language_info": {
   "codemirror_mode": {
    "name": "ipython",
    "version": 3
   },
   "file_extension": ".py",
   "mimetype": "text/x-python",
   "name": "python",
   "nbconvert_exporter": "python",
   "pygments_lexer": "ipython3",
   "version": "3.8.5"
  }
 },
 "nbformat": 4,
 "nbformat_minor": 4
}
